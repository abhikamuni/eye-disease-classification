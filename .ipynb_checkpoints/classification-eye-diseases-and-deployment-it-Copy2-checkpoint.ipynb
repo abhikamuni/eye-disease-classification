{
 "cells": [
  {
   "cell_type": "markdown",
   "metadata": {
    "_cell_guid": "b1076dfc-b9ad-4769-8c92-a6c4dae69d19",
    "_uuid": "8f2839f25d086af736a60e9eeb907d3b93b6e0e5"
   },
   "source": [
    "# Loading bakage"
   ]
  },
  {
   "cell_type": "code",
   "execution_count": 1,
   "metadata": {},
   "outputs": [
    {
     "name": "stdout",
     "output_type": "stream",
     "text": [
      "\u001b[2m\u001b[1m\u001b[32m\n",
      "NECESSARY LIBRARIES WERE SUCCESFULLY IMPORTED...\u001b[0m\n"
     ]
    }
   ],
   "source": [
    "import pandas as pd\n",
    "import pathlib\n",
    "import tensorflow as tf\n",
    "import matplotlib.pyplot as plt\n",
    "import numpy as np\n",
    "import os\n",
    "import PIL\n",
    "import glob\n",
    "from tensorflow import keras\n",
    "from tensorflow.keras import layers\n",
    "from tensorflow.keras.models import Sequential\n",
    "from tensorflow.keras.preprocessing import image_dataset_from_directory\n",
    "from tensorflow.keras.layers import Conv2D, MaxPooling2D, Activation, Flatten, Dense, Dropout, BatchNormalization\n",
    "from tensorflow.keras.losses import SparseCategoricalCrossentropy\n",
    "from tensorflow.keras.regularizers import l2\n",
    "import os\n",
    "\n",
    "%matplotlib inline\n",
    "from glob import glob\n",
    "import seaborn as sns\n",
    "from PIL import Image\n",
    "np.random.seed(11) # It's my lucky number\n",
    "from sklearn.preprocessing import StandardScaler \n",
    "from sklearn.model_selection import train_test_split, KFold, cross_val_score, GridSearchCV\n",
    "from sklearn.metrics import accuracy_score\n",
    "import itertools\n",
    "\n",
    "import keras\n",
    "from keras.utils.np_utils import to_categorical # used for converting labels to one-hot-encoding\n",
    "from keras.models import Sequential, Model\n",
    "from keras.layers import Dense, Dropout, Flatten, Conv2D, MaxPool2D\n",
    "from keras import backend as K\n",
    "from tensorflow.keras.layers import BatchNormalization\n",
    "from tensorflow.keras.optimizers import Adam, RMSprop\n",
    "from keras.preprocessing.image import ImageDataGenerator\n",
    "from keras.callbacks import ReduceLROnPlateau\n",
    "from keras.wrappers.scikit_learn import KerasClassifier\n",
    "from keras.applications.inception_v3 import InceptionV3\n",
    "from keras import backend as K \n",
    "import random\n",
    "import urllib.request\n",
    "import matplotlib.image as mpimg\n",
    "\n",
    "\n",
    "\n",
    "import tensorflow as tf\n",
    "from tensorflow.keras.preprocessing.image import ImageDataGenerator\n",
    "from tensorflow.keras.layers import Dense, Dropout, Flatten, BatchNormalization, MaxPooling2D, Reshape, LSTM\n",
    "from tensorflow.keras.models import Sequential\n",
    "from tensorflow.keras.applications import DenseNet121\n",
    "from tensorflow.keras.callbacks import ModelCheckpoint, EarlyStopping, ReduceLROnPlateau\n",
    "\n",
    "\n",
    "from skimage.filters import rank, threshold_otsu\n",
    "from skimage import io\n",
    "from skimage.color import rgb2gray\n",
    "from sklearn.cluster import KMeans\n",
    "import warnings\n",
    "warnings.filterwarnings(\"ignore\")\n",
    "from keras.preprocessing import image\n",
    "from keras.preprocessing.image import ImageDataGenerator \n",
    "from tensorflow.keras.utils import img_to_array\n",
    "from keras.utils import np_utils\n",
    "from sklearn.datasets import load_files   \n",
    "from tqdm import tqdm\n",
    "from collections import Counter\n",
    "from skimage.morphology import closing, square, disk\n",
    "#to see full text:\n",
    "pd.set_option(\"display.max_colwidth\", 1)\n",
    "from termcolor import colored\n",
    "print(colored(\"\\nNECESSARY LIBRARIES WERE SUCCESFULLY IMPORTED...\", color = \"green\", attrs = [\"bold\", \"dark\"]))"
   ]
  },
  {
   "cell_type": "markdown",
   "metadata": {},
   "source": [
    "# Loading Data"
   ]
  },
  {
   "cell_type": "code",
   "execution_count": 2,
   "metadata": {},
   "outputs": [
    {
     "name": "stdout",
     "output_type": "stream",
     "text": [
      "['cataract', 'diabetic_retinopathy', 'glaucoma', 'normal']\n",
      "Types of classes labels found:  4\n"
     ]
    }
   ],
   "source": [
    "dataset_path_train = os.listdir('C:\\\\Users\\\\abhikamuni\\\\Downloads\\\\Project\\\\eye-diseases-classification\\\\dataset')\n",
    "print (dataset_path_train)\n",
    "print(\"Types of classes labels found: \", len(dataset_path_train))"
   ]
  },
  {
   "cell_type": "code",
   "execution_count": 3,
   "metadata": {},
   "outputs": [],
   "source": [
    "class_labels = []\n",
    "\n",
    "for item in dataset_path_train: \n",
    " #\n",
    " all_classes = os.listdir('C:\\\\Users\\\\abhikamuni\\\\Downloads\\\\Project\\\\eye-diseases-classification\\\\dataset\\\\' + '/' +item+'/')\n",
    " # Add them to the list\n",
    " for room in all_classes:\n",
    "    class_labels.append((item, str('dataset_path' + '/' +item) + '/' + room))"
   ]
  },
  {
   "cell_type": "code",
   "execution_count": 4,
   "metadata": {},
   "outputs": [
    {
     "data": {
      "text/html": [
       "<div>\n",
       "<style scoped>\n",
       "    .dataframe tbody tr th:only-of-type {\n",
       "        vertical-align: middle;\n",
       "    }\n",
       "\n",
       "    .dataframe tbody tr th {\n",
       "        vertical-align: top;\n",
       "    }\n",
       "\n",
       "    .dataframe thead th {\n",
       "        text-align: right;\n",
       "    }\n",
       "</style>\n",
       "<table border=\"1\" class=\"dataframe\">\n",
       "  <thead>\n",
       "    <tr style=\"text-align: right;\">\n",
       "      <th></th>\n",
       "      <th>Labels</th>\n",
       "      <th>image</th>\n",
       "    </tr>\n",
       "  </thead>\n",
       "  <tbody>\n",
       "    <tr>\n",
       "      <th>0</th>\n",
       "      <td>cataract</td>\n",
       "      <td>dataset_path/cataract/0_left.jpg</td>\n",
       "    </tr>\n",
       "    <tr>\n",
       "      <th>1</th>\n",
       "      <td>cataract</td>\n",
       "      <td>dataset_path/cataract/103_left.jpg</td>\n",
       "    </tr>\n",
       "    <tr>\n",
       "      <th>2</th>\n",
       "      <td>cataract</td>\n",
       "      <td>dataset_path/cataract/1062_right.jpg</td>\n",
       "    </tr>\n",
       "    <tr>\n",
       "      <th>3</th>\n",
       "      <td>cataract</td>\n",
       "      <td>dataset_path/cataract/1083_left.jpg</td>\n",
       "    </tr>\n",
       "    <tr>\n",
       "      <th>4</th>\n",
       "      <td>cataract</td>\n",
       "      <td>dataset_path/cataract/1084_right.jpg</td>\n",
       "    </tr>\n",
       "  </tbody>\n",
       "</table>\n",
       "</div>"
      ],
      "text/plain": [
       "     Labels                                 image\n",
       "0  cataract  dataset_path/cataract/0_left.jpg    \n",
       "1  cataract  dataset_path/cataract/103_left.jpg  \n",
       "2  cataract  dataset_path/cataract/1062_right.jpg\n",
       "3  cataract  dataset_path/cataract/1083_left.jpg \n",
       "4  cataract  dataset_path/cataract/1084_right.jpg"
      ]
     },
     "execution_count": 4,
     "metadata": {},
     "output_type": "execute_result"
    }
   ],
   "source": [
    "df = pd.DataFrame(data=class_labels, columns=['Labels', 'image'])\n",
    "df.head()"
   ]
  },
  {
   "cell_type": "code",
   "execution_count": 5,
   "metadata": {},
   "outputs": [],
   "source": [
    "# This Parameter we can use it in the network and model\n",
    "batch_size = 32\n",
    "img_height = 256\n",
    "img_width = 256"
   ]
  },
  {
   "cell_type": "code",
   "execution_count": 6,
   "metadata": {},
   "outputs": [],
   "source": [
    "data_dir = pathlib.Path(\"C:\\\\Users\\\\abhikamuni\\\\Downloads\\\\Project\\\\eye-diseases-classification\\\\dataset\")"
   ]
  },
  {
   "cell_type": "code",
   "execution_count": 7,
   "metadata": {},
   "outputs": [
    {
     "name": "stdout",
     "output_type": "stream",
     "text": [
      "Found 4217 files belonging to 4 classes.\n",
      "Using 3374 files for training.\n"
     ]
    }
   ],
   "source": [
    "# For train data set\n",
    "train_ds = image_dataset_from_directory(data_dir, \n",
    "                                        seed = 123, \n",
    "                                        image_size=(img_height, img_width), \n",
    "                                        validation_split=0.2, \n",
    "                                        subset='training')"
   ]
  },
  {
   "cell_type": "code",
   "execution_count": 8,
   "metadata": {},
   "outputs": [
    {
     "name": "stdout",
     "output_type": "stream",
     "text": [
      "Found 4217 files belonging to 4 classes.\n",
      "Using 843 files for validation.\n"
     ]
    }
   ],
   "source": [
    "# here we can put the validate data\n",
    "val_ds = image_dataset_from_directory(data_dir, \n",
    "                                      seed = 123, \n",
    "                                      image_size=(img_height, img_width), \n",
    "                                      validation_split=0.2, \n",
    "                                      subset='validation',)"
   ]
  },
  {
   "cell_type": "markdown",
   "metadata": {},
   "source": [
    "# Creat Model"
   ]
  },
  {
   "cell_type": "code",
   "execution_count": 9,
   "metadata": {},
   "outputs": [],
   "source": [
    "# Define hyperparameters\n",
    "batch_size = 32\n",
    "img_height = 256\n",
    "img_width = 256\n",
    "classes = 4\n",
    "factor = 0.5\n",
    "patience = 1\n",
    "stop_patience = 3"
   ]
  },
  {
   "cell_type": "code",
   "execution_count": null,
   "metadata": {},
   "outputs": [],
   "source": []
  },
  {
   "cell_type": "code",
   "execution_count": 10,
   "metadata": {},
   "outputs": [
    {
     "name": "stdout",
     "output_type": "stream",
     "text": [
      "Found 4217 files belonging to 4 classes.\n",
      "Using 3374 files for training.\n",
      "Found 4217 files belonging to 4 classes.\n",
      "Using 843 files for validation.\n"
     ]
    }
   ],
   "source": [
    "\n",
    "# Load train and validation datasets\n",
    "train_ds = tf.keras.preprocessing.image_dataset_from_directory(\n",
    "    data_dir,\n",
    "    validation_split=0.2,\n",
    "    subset=\"training\",\n",
    "    seed=123,\n",
    "    image_size=(img_height, img_width),\n",
    "    batch_size=batch_size\n",
    ")\n",
    "\n",
    "val_ds = tf.keras.preprocessing.image_dataset_from_directory(\n",
    "    data_dir,\n",
    "    validation_split=0.2,\n",
    "    subset=\"validation\",\n",
    "    seed=123,\n",
    "    image_size=(img_height, img_width),\n",
    "    batch_size=batch_size\n",
    ")"
   ]
  },
  {
   "cell_type": "code",
   "execution_count": 11,
   "metadata": {},
   "outputs": [],
   "source": [
    "from tensorflow.keras.applications import DenseNet121\n",
    "dense = DenseNet121(weights = \"imagenet\", include_top = False, input_shape=(256,256,3))"
   ]
  },
  {
   "cell_type": "code",
   "execution_count": 12,
   "metadata": {},
   "outputs": [],
   "source": [
    "for layer in dense.layers[:121]:\n",
    "    layer.trainable = False"
   ]
  },
  {
   "cell_type": "code",
   "execution_count": 13,
   "metadata": {},
   "outputs": [],
   "source": [
    "from tensorflow.keras.layers import Reshape\n",
    "\n",
    "# CNN Model\n",
    "cnn_model = Sequential([\n",
    "    DenseNet121(include_top=False, weights='imagenet', input_shape=(img_height, img_width, 3)),\n",
    "    MaxPooling2D(),\n",
    "    BatchNormalization(),\n",
    "    Dropout(0.5),\n",
    "    Flatten(),\n",
    "    Dense(512, activation='relu'),\n",
    "    Dropout(0.5),\n",
    "    Reshape((1, 512))  # Reshape to add the time dimension\n",
    "])"
   ]
  },
  {
   "cell_type": "code",
   "execution_count": 14,
   "metadata": {},
   "outputs": [],
   "source": [
    "from tensorflow.keras.layers import LSTM\n",
    "\n",
    "# RNN Model\n",
    "rnn_model = Sequential([\n",
    "    LSTM(units=64)  # You can adjust the number of units as needed\n",
    "])"
   ]
  },
  {
   "cell_type": "code",
   "execution_count": 15,
   "metadata": {},
   "outputs": [],
   "source": [
    "# Combined Model\n",
    "combined_model = Sequential([\n",
    "    cnn_model,\n",
    "    rnn_model,\n",
    "    Dense(classes, activation='softmax')\n",
    "])"
   ]
  },
  {
   "cell_type": "code",
   "execution_count": 16,
   "metadata": {},
   "outputs": [],
   "source": [
    "# Freeze layers in CNN\n",
    "for layer in combined_model.layers[0].layers[:121]:\n",
    "    layer.trainable = False\n"
   ]
  },
  {
   "cell_type": "code",
   "execution_count": 17,
   "metadata": {},
   "outputs": [],
   "source": [
    "# Model Compilation\n",
    "combined_model.compile(optimizer='rmsprop', loss='sparse_categorical_crossentropy', metrics=['accuracy'])\n"
   ]
  },
  {
   "cell_type": "code",
   "execution_count": 18,
   "metadata": {},
   "outputs": [],
   "source": [
    "from tensorflow.keras.callbacks import ModelCheckpoint, EarlyStopping, ReduceLROnPlateau\n",
    "# Callbacks\n",
    "callbacks = [\n",
    "    ModelCheckpoint(\"combined_model.h5\", save_best_only=True, verbose=1),\n",
    "    ReduceLROnPlateau(monitor='val_loss', factor=factor, patience=patience, verbose=1),\n",
    "    EarlyStopping(monitor='val_loss', patience=stop_patience, restore_best_weights=True)\n",
    "]"
   ]
  },
  {
   "cell_type": "code",
   "execution_count": 19,
   "metadata": {},
   "outputs": [
    {
     "name": "stdout",
     "output_type": "stream",
     "text": [
      "Epoch 1/10\n",
      "106/106 [==============================] - ETA: 0s - loss: 1.3906 - accuracy: 0.3112\n",
      "Epoch 1: val_loss improved from inf to 1.19104, saving model to combined_model.h5\n",
      "106/106 [==============================] - 890s 8s/step - loss: 1.3906 - accuracy: 0.3112 - val_loss: 1.1910 - val_accuracy: 0.5563 - lr: 0.0010\n",
      "Epoch 2/10\n",
      "106/106 [==============================] - ETA: 0s - loss: 1.2694 - accuracy: 0.4188\n",
      "Epoch 2: val_loss improved from 1.19104 to 1.07840, saving model to combined_model.h5\n",
      "106/106 [==============================] - 851s 8s/step - loss: 1.2694 - accuracy: 0.4188 - val_loss: 1.0784 - val_accuracy: 0.6026 - lr: 0.0010\n",
      "Epoch 3/10\n",
      "106/106 [==============================] - ETA: 0s - loss: 1.2003 - accuracy: 0.4588\n",
      "Epoch 3: val_loss improved from 1.07840 to 1.01065, saving model to combined_model.h5\n",
      "106/106 [==============================] - 854s 8s/step - loss: 1.2003 - accuracy: 0.4588 - val_loss: 1.0107 - val_accuracy: 0.5907 - lr: 0.0010\n",
      "Epoch 4/10\n",
      "106/106 [==============================] - ETA: 0s - loss: 1.1496 - accuracy: 0.4994\n",
      "Epoch 4: val_loss improved from 1.01065 to 1.00373, saving model to combined_model.h5\n",
      "106/106 [==============================] - 857s 8s/step - loss: 1.1496 - accuracy: 0.4994 - val_loss: 1.0037 - val_accuracy: 0.6038 - lr: 0.0010\n",
      "Epoch 5/10\n",
      "106/106 [==============================] - ETA: 0s - loss: 1.1215 - accuracy: 0.5163\n",
      "Epoch 5: val_loss improved from 1.00373 to 0.95658, saving model to combined_model.h5\n",
      "106/106 [==============================] - 981s 9s/step - loss: 1.1215 - accuracy: 0.5163 - val_loss: 0.9566 - val_accuracy: 0.6168 - lr: 0.0010\n",
      "Epoch 6/10\n",
      "106/106 [==============================] - ETA: 0s - loss: 1.1037 - accuracy: 0.5359\n",
      "Epoch 6: val_loss improved from 0.95658 to 0.91472, saving model to combined_model.h5\n",
      "106/106 [==============================] - 1281s 12s/step - loss: 1.1037 - accuracy: 0.5359 - val_loss: 0.9147 - val_accuracy: 0.6501 - lr: 0.0010\n",
      "Epoch 7/10\n",
      "106/106 [==============================] - ETA: 0s - loss: 1.0820 - accuracy: 0.5421 \n",
      "Epoch 7: val_loss did not improve from 0.91472\n",
      "\n",
      "Epoch 7: ReduceLROnPlateau reducing learning rate to 0.0005000000237487257.\n",
      "106/106 [==============================] - 1399s 13s/step - loss: 1.0820 - accuracy: 0.5421 - val_loss: 0.9152 - val_accuracy: 0.6275 - lr: 0.0010\n",
      "Epoch 8/10\n",
      "106/106 [==============================] - ETA: 0s - loss: 1.0863 - accuracy: 0.5400 \n",
      "Epoch 8: val_loss did not improve from 0.91472\n",
      "\n",
      "Epoch 8: ReduceLROnPlateau reducing learning rate to 0.0002500000118743628.\n",
      "106/106 [==============================] - 1296s 12s/step - loss: 1.0863 - accuracy: 0.5400 - val_loss: 0.9281 - val_accuracy: 0.6299 - lr: 5.0000e-04\n",
      "Epoch 9/10\n",
      "106/106 [==============================] - ETA: 0s - loss: 1.0628 - accuracy: 0.5477\n",
      "Epoch 9: val_loss did not improve from 0.91472\n",
      "\n",
      "Epoch 9: ReduceLROnPlateau reducing learning rate to 0.0001250000059371814.\n",
      "106/106 [==============================] - 912s 9s/step - loss: 1.0628 - accuracy: 0.5477 - val_loss: 0.9183 - val_accuracy: 0.6311 - lr: 2.5000e-04\n"
     ]
    }
   ],
   "source": [
    "# Model Training\n",
    "history = combined_model.fit(\n",
    "    train_ds,\n",
    "    validation_data=val_ds,\n",
    "    epochs=10,\n",
    "    verbose=1,\n",
    "    callbacks=callbacks\n",
    ")\n"
   ]
  },
  {
   "cell_type": "code",
   "execution_count": 20,
   "metadata": {},
   "outputs": [],
   "source": [
    "import matplotlib.pyplot as plt\n",
    "\n",
    "# Save the trained model\n",
    "combined_model.save(\"combined_model_trained.h5\")"
   ]
  },
  {
   "cell_type": "code",
   "execution_count": 21,
   "metadata": {},
   "outputs": [
    {
     "data": {
      "image/png": "[encoded data removed]",
      "text/plain": [
       "<Figure size 640x480 with 1 Axes>"
      ]
     },
     "metadata": {},
     "output_type": "display_data"
    }
   ],
   "source": [
    "# Plot training and validation accuracy\n",
    "plt.plot(history.history['accuracy'], label='Training Accuracy')\n",
    "plt.plot(history.history['val_accuracy'], label='Validation Accuracy')\n",
    "plt.xlabel('Epoch')\n",
    "plt.ylabel('Accuracy')\n",
    "plt.legend()\n",
    "plt.title('Training and Validation Accuracy')\n",
    "plt.show()"
   ]
  },
  {
   "cell_type": "code",
   "execution_count": 23,
   "metadata": {},
   "outputs": [
    {
     "name": "stdout",
     "output_type": "stream",
     "text": [
      "Training Accuracy: 0.5477178692817688\n",
      "Validation Accuracy: 0.6310794949531555\n"
     ]
    }
   ],
   "source": [
    "# Print training and validation accuracy\n",
    "print(\"Training Accuracy:\", history.history['accuracy'][-1])\n",
    "print(\"Validation Accuracy:\", history.history['val_accuracy'][-1])\n"
   ]
  },
  {
   "cell_type": "code",
   "execution_count": null,
   "metadata": {},
   "outputs": [],
   "source": []
  }
 ],
 "metadata": {
  "kernelspec": {
   "display_name": "Python 3 (ipykernel)",
   "language": "python",
   "name": "python3"
  },
  "language_info": {
   "codemirror_mode": {
    "name": "ipython",
    "version": 3
   },
   "file_extension": ".py",
   "mimetype": "text/x-python",
   "name": "python",
   "nbconvert_exporter": "python",
   "pygments_lexer": "ipython3",
   "version": "3.11.7"
  }
 },
 "nbformat": 4,
 "nbformat_minor": 4
}
